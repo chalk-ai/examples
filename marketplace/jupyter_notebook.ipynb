{
 "cells": [
  {
   "cell_type": "code",
   "execution_count": null,
   "id": "0",
   "metadata": {},
   "outputs": [],
   "source": [
    "from chalk.client import ChalkClient\n",
    "\n",
    "client: ChalkClient = ChalkClient()"
   ]
  },
  {
   "cell_type": "code",
   "execution_count": null,
   "id": "1",
   "metadata": {},
   "outputs": [],
   "source": [
    "from chalk.client.models import BulkOnlineQueryResponse, BulkOnlineQueryResult\n",
    "from src.marketplace.models import UserItem\n",
    "\n",
    "bulk_query: BulkOnlineQueryResponse = client.query_bulk(\n",
    "    input={\n",
    "        UserItem.user_id: [50] * 10,\n",
    "        UserItem.item_id: list(range(80,90)),\n",
    "    },\n",
    "    output=[\n",
    "        UserItem.item.title,\n",
    "        # Joint features\n",
    "        UserItem.price_diff,\n",
    "        UserItem.price_diff_ratio,\n",
    "        UserItem.affordability_cap,\n",
    "        UserItem.price_fit,\n",
    "        # Item pricing\n",
    "        UserItem.item.times_purchased,\n",
    "        UserItem.item.most_recent_price,\n",
    "        UserItem.item.average_price,\n",
    "         # Item ratings\n",
    "        UserItem.item.average_rating,\n",
    "        UserItem.item.total_reviews,\n",
    "        # User details\n",
    "        UserItem.user.id,\n",
    "        UserItem.user.created_at,\n",
    "        # User interactions\n",
    "        # User purchases\n",
    "        # Reviews\n",
    "        UserItem.user.review_count,\n",
    "        UserItem.user.average_rating_given,\n",
    "    ],\n",
    "    query_name=\"user-item\",\n",
    "    # branch=\"elvis\",\n",
    ")\n",
    "query_result: BulkOnlineQueryResult\n",
    "query_result, *_ = bulk_query.results\n",
    "query_result.to_pandas()"
   ]
  },
  {
   "cell_type": "code",
   "execution_count": null,
   "id": "2",
   "metadata": {},
   "outputs": [],
   "source": [
    "from src.marketplace.models import User\n",
    "from chalk.features import _\n",
    "import chalk.functions as F\n",
    "\n",
    "# initialized in the context of this notebook session\n",
    "User.full_name: str = _.first_name + \" \" + _.last_name\n",
    "\n",
    "result = client.query(\n",
    "    input={\n",
    "        User.id: 1,\n",
    "    },\n",
    "    output=[\n",
    "        User.full_name,\n",
    "        User.username,\n",
    "        (F.jaccard_similarity(\n",
    "                a=F.lower(_.full_name),\n",
    "                b=F.lower(_.email)\n",
    "        )).alias(\"user.name_email_sim\"),\n",
    "    ],\n",
    ")\n",
    "result"
   ]
  },
  {
   "cell_type": "code",
   "execution_count": null,
   "id": "3",
   "metadata": {},
   "outputs": [],
   "source": [
    "from datetime import timedelta\n",
    "from datetime import datetime\n",
    "\n",
    "last_year = datetime(2023, 12, 31)\n",
    "christmas = datetime(2024, 12, 25)\n",
    "new_year = datetime(2025, 1, 1)\n",
    "\n",
    "from chalk.client.response import Dataset\n",
    "from src.marketplace import User\n",
    "\n",
    "results: Dataset = client.offline_query(\n",
    "    input={\n",
    "        User.id: [896, 896, 896, ],\n",
    "    },\n",
    "    recompute_features=True,\n",
    "    # recompute_features=[User.review_count, User.average_rating_given], # can re-compute just a subset of features\n",
    "    input_times=[christmas, new_year, datetime.now() - timedelta(days=7)],\n",
    "    output=[\n",
    "        User.review_count,\n",
    "        User.average_rating_given,\n",
    "        User.username,\n",
    "    ],\n",
    ")\n",
    "results.to_pandas()"
   ]
  },
  {
   "cell_type": "code",
   "execution_count": null,
   "id": "4",
   "metadata": {},
   "outputs": [],
   "source": [
    "# chalk for data scientists\n",
    "from chalk.features import _\n",
    "\n",
    "# can load features from prod into notebook directly\n",
    "client.load_features()\n",
    "User.new_on_demand_feature = _.total_product_inquiry_count / _.total_orders_placed"
   ]
  },
  {
   "cell_type": "code",
   "execution_count": null,
   "id": "5",
   "metadata": {},
   "outputs": [],
   "source": [
    "# chalk for data scientists\n",
    "from chalk.integrations import GlueCatalog\n",
    "\n",
    "catalog = GlueCatalog(\n",
    "    name=\"aws_glue_catalog\",\n",
    "    aws_region=\"us-west-2\",\n",
    "    catalog_id=\"123\",\n",
    "    aws_role_arn=\"arn:aws:iam::123456789012:role/YourCatalogueAccessRole\",\n",
    ")\n",
    "# results is dataframe returned from offline query\n",
    "results.write_to(destination=\"database.table_name\", catalog=catalog)\n"
   ]
  }
 ],
 "metadata": {
  "kernelspec": {
   "display_name": "Python 3",
   "language": "python",
   "name": "python3"
  },
  "language_info": {
   "codemirror_mode": {
    "name": "ipython",
    "version": 2
   },
   "file_extension": ".py",
   "mimetype": "text/x-python",
   "name": "python",
   "nbconvert_exporter": "python",
   "pygments_lexer": "ipython2",
   "version": "2.7.6"
  }
 },
 "nbformat": 4,
 "nbformat_minor": 5
}
